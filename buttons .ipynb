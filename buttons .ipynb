{
 "cells": [
  {
   "cell_type": "code",
   "execution_count": 2,
   "id": "186d32ba",
   "metadata": {},
   "outputs": [],
   "source": [
    "from tkinter import *"
   ]
  },
  {
   "cell_type": "code",
   "execution_count": 17,
   "id": "30b5e9da",
   "metadata": {},
   "outputs": [],
   "source": [
    "root=Tk()\n",
    "root.geometry(\"666x333\")\n",
    "\n",
    "#Make a function of any name\n",
    "def taha():\n",
    "    a=int(input(\"Enter a num:\\n\"))\n",
    "    b=int(input(\"Enter a num:\\n\"))\n",
    "    print(\"The Multiplication is:\",a*b) #simply applying multiplication rule\n",
    "    \n",
    "def table_of_two():\n",
    "    print(\"Table for Two is:\")\n",
    "    for i in range(1,11): #using for loop to print table of 2\n",
    "        print(\"2*\",i,\"=\",2*i)\n",
    "        \n",
    "def check():\n",
    "    print(\"working\") #just printing strings\n",
    "\n",
    "#making a frame\n",
    "f1=Frame(root,borderwidth=10,bg=\"grey\",relief=\"sunken\")\n",
    "f1.pack(anchor=\"nw\")\n",
    "\n",
    "#making buttons\n",
    "b1=Button(f1,text=\"Button\",fg=\"white\",bg=\"black\",command=taha) #same arguments or parameters which we use in pack and label\n",
    "b1.pack(side=LEFT,padx=6)\n",
    "\n",
    "# b2=Button(f1,text=\"Button\",fg=\"white\",bg=\"black\") #same arguments or parameters which we use in pack and label\n",
    "# b2.pack(side=TOP,pady=6)\n",
    "\n",
    "b3=Button(f1,text=\"Button\",fg=\"white\",bg=\"black\",command=table_of_two) #same arguments or parameters which we use in pack and label\n",
    "b3.pack(side=RIGHT,padx=6)\n",
    "\n",
    "b4=Button(f1,text=\"Button\",fg=\"white\",bg=\"black\",command=check) #same arguments or parameters which we use in pack and label\n",
    "b4.pack(side=BOTTOM,padx=6)"
   ]
  },
  {
   "cell_type": "code",
   "execution_count": 18,
   "id": "c87ac5fb",
   "metadata": {},
   "outputs": [
    {
     "name": "stdout",
     "output_type": "stream",
     "text": [
      "Table for Two is:\n",
      "2* 1 = 2\n",
      "2* 2 = 4\n",
      "2* 3 = 6\n",
      "2* 4 = 8\n",
      "2* 5 = 10\n",
      "2* 6 = 12\n",
      "2* 7 = 14\n",
      "2* 8 = 16\n",
      "2* 9 = 18\n",
      "2* 10 = 20\n",
      "working\n",
      "Enter a num:\n",
      "3\n",
      "Enter a num:\n",
      "3\n",
      "The Multiplication is: 9\n"
     ]
    }
   ],
   "source": [
    "root.mainloop()"
   ]
  },
  {
   "cell_type": "code",
   "execution_count": null,
   "id": "19678a3f",
   "metadata": {},
   "outputs": [],
   "source": []
  },
  {
   "cell_type": "code",
   "execution_count": null,
   "id": "85fe9282",
   "metadata": {},
   "outputs": [],
   "source": []
  }
 ],
 "metadata": {
  "kernelspec": {
   "display_name": "Python 3 (ipykernel)",
   "language": "python",
   "name": "python3"
  },
  "language_info": {
   "codemirror_mode": {
    "name": "ipython",
    "version": 3
   },
   "file_extension": ".py",
   "mimetype": "text/x-python",
   "name": "python",
   "nbconvert_exporter": "python",
   "pygments_lexer": "ipython3",
   "version": "3.9.13"
  }
 },
 "nbformat": 4,
 "nbformat_minor": 5
}
