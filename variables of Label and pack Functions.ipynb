{
 "cells": [
  {
   "cell_type": "code",
   "execution_count": 7,
   "id": "88caaa1f",
   "metadata": {},
   "outputs": [],
   "source": [
    "from tkinter import *\n",
    "from PIL import Image,ImageTk"
   ]
  },
  {
   "cell_type": "code",
   "execution_count": 254,
   "id": "e70c8505",
   "metadata": {},
   "outputs": [],
   "source": [
    "root=Tk()\n",
    "root.geometry(\"550x500\")\n",
    "root.title(\"Taha\") #to change title of the image\n",
    "\n",
    "#Labels and their Usage\n",
    "    # Important Label Options\n",
    "# text - adds the text\n",
    "# bg - background\n",
    "# fg - foreground\n",
    "# font - sets the font\n",
    "# 1. font=(\"comicsansms\", 19, \"bold\")\n",
    "# 2. font=\"comicsansms 19 bold\"\n",
    "\n",
    "# padx - x padding\n",
    "# pady - y padding\n",
    "# relief - border styling - SUNKEN, RAISED, GROOVE, RIDGE\n",
    "\n",
    "label_variable=Label(text = '''\n",
    " \\nطه ١\n",
    "مَآ أَنزَلْنَا عَلَيْكَ ٱلْقُرْءَانَ لِتَشْقَىٰٓ ٢  \\n\n",
    "\\nإِلَّا تَذْكِرَةًۭ لِّمَن يَخْشَىٰ ٣\n",
    "\\nتَنزِيلًۭا مِّمَّنْ خَلَقَ ٱلْأَرْضَ وَٱلسَّمَـٰوَٰتِ ٱلْعُلَى ٤\n",
    "\\nٱلرَّحْمَـٰنُ عَلَى ٱلْعَرْشِ ٱسْتَوَىٰ ٥\n",
    "لَهُۥ مَا فِى ٱلسَّمَـٰوَٰتِ وَمَا فِى ٱلْأَرْضِ وَمَا بَيْنَهُمَا وَمَا تَحْتَ ٱلثَّرَىٰ ٦ \\n\n",
    "\\nوَإِن تَجْهَرْ بِٱلْقَوْلِ فَإِنَّهُۥ يَعْلَمُ ٱلسِّرَّ وَأَخْفَى ٧\n",
    "\\nٱللَّهُ لَآ إِلَـٰهَ إِلَّا هُوَ ۖ لَهُ ٱلْأَسْمَآءُ ٱلْحُسْنَىٰ ٨\n",
    "وَهَلْ أَتَىٰكَ حَدِيثُ مُوسَىٰٓ ٩ \\n\n",
    "إِذْ رَءَا نَارًۭا فَقَالَ لِأَهْلِهِ ٱمْكُثُوٓا۟ إِنِّىٓ ءَانَسْتُ نَارًۭا لَّعَلِّىٓ ءَاتِيكُم مِّنْهَا \n",
    "بِقَبَسٍ أَوْ أَجِدُ عَلَى ٱلنَّارِ هُدًۭى ١٠\\n \n",
    "فَلَمَّآ أَتَىٰهَا نُودِىَ يَـٰمُوسَىٰٓ ١١ \n",
    "\\nإِنِّىٓ أَنَا۠ رَبُّكَ فَٱخْلَعْ نَعْلَيْكَ ۖ إِنَّكَ بِٱلْوَادِ ٱلْمُقَدَّسِ طُوًۭى ١٢\n",
    "''',bg=\"purple\",fg=\"white\",font=\"comicsans 12 bold\",pady= 45,padx=15,relief=SUNKEN)\n",
    "\n",
    "#pack options= \n",
    "#anchor se aap uski location change krskty hain north south east west\n",
    "\n",
    "#side= top,bottom,left,right\n",
    "#fill= x ya y se khichta jayega\n",
    "#padding = left and right\n",
    "label_variable.pack(anchor=\"n\",side=\"left\",fill=X,padx=35,pady=40) "
   ]
  },
  {
   "cell_type": "code",
   "execution_count": 255,
   "id": "bcc22c56",
   "metadata": {},
   "outputs": [],
   "source": [
    "main=root.mainloop()"
   ]
  },
  {
   "cell_type": "code",
   "execution_count": null,
   "id": "c2651ffa",
   "metadata": {},
   "outputs": [],
   "source": []
  },
  {
   "cell_type": "code",
   "execution_count": null,
   "id": "9da2d6f8",
   "metadata": {},
   "outputs": [],
   "source": []
  }
 ],
 "metadata": {
  "kernelspec": {
   "display_name": "Python 3 (ipykernel)",
   "language": "python",
   "name": "python3"
  },
  "language_info": {
   "codemirror_mode": {
    "name": "ipython",
    "version": 3
   },
   "file_extension": ".py",
   "mimetype": "text/x-python",
   "name": "python",
   "nbconvert_exporter": "python",
   "pygments_lexer": "ipython3",
   "version": "3.9.13"
  }
 },
 "nbformat": 4,
 "nbformat_minor": 5
}
