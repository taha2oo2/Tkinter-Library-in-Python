{
 "cells": [
  {
   "cell_type": "code",
   "execution_count": 35,
   "id": "7c5c6cfc",
   "metadata": {},
   "outputs": [],
   "source": [
    "from tkinter import *\n",
    "from PIL import Image, ImageTk #for jpeg format image"
   ]
  },
  {
   "cell_type": "code",
   "execution_count": 75,
   "id": "a0b9f2d7",
   "metadata": {},
   "outputs": [],
   "source": [
    "root=Tk()\n",
    "\n",
    "root.geometry(\"300x170\")\n",
    "\n",
    "#root.minsize(333,199)\n",
    "\n",
    "root.maxsize(666,333)\n",
    "# for png images\n",
    "#photo=PhotoImage(file=\"i1.png\")\n",
    "\n",
    "#for jpg image\n",
    "image= Image.open(\"i2.jpg\") #put this in your directory where the file you are working on is saved,change the name accordingly\n",
    "photo=ImageTk.PhotoImage(image)\n",
    "\n",
    "#This will be Common\n",
    "a=Label(image= photo)\n",
    "a.pack()"
   ]
  },
  {
   "cell_type": "code",
   "execution_count": 76,
   "id": "b2834bdd",
   "metadata": {},
   "outputs": [],
   "source": [
    "root.mainloop()"
   ]
  },
  {
   "cell_type": "code",
   "execution_count": null,
   "id": "b6ee0bee",
   "metadata": {},
   "outputs": [],
   "source": []
  }
 ],
 "metadata": {
  "kernelspec": {
   "display_name": "Python 3 (ipykernel)",
   "language": "python",
   "name": "python3"
  },
  "language_info": {
   "codemirror_mode": {
    "name": "ipython",
    "version": 3
   },
   "file_extension": ".py",
   "mimetype": "text/x-python",
   "name": "python",
   "nbconvert_exporter": "python",
   "pygments_lexer": "ipython3",
   "version": "3.9.13"
  }
 },
 "nbformat": 4,
 "nbformat_minor": 5
}
