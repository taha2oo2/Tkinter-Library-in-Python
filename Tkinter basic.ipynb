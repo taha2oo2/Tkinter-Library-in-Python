{
 "cells": [
  {
   "cell_type": "code",
   "execution_count": 26,
   "id": "a82e54e3",
   "metadata": {},
   "outputs": [],
   "source": [
    "from tkinter import *"
   ]
  },
  {
   "cell_type": "code",
   "execution_count": 37,
   "id": "f76bcb44",
   "metadata": {},
   "outputs": [],
   "source": [
    "name_root= Tk() #for logics\n",
    "name_root.geometry(\"733x434\")#(width x Height)\n",
    "\n",
    "name_root.minsize(150,300) #(width,height)\n",
    "\n",
    "name_root.maxsize(450,355) #(width,height)\n",
    "\n",
    "name= Label(text= \"This is a GUI\",) #jo likhna hai wahan\n",
    "name.pack() #Jab tak packn nahi krogy tb tk wahan show nh hoga"
   ]
  },
  {
   "cell_type": "code",
   "execution_count": 38,
   "id": "7f9affc0",
   "metadata": {},
   "outputs": [],
   "source": [
    "name_root.mainloop() #Creates GUI Window"
   ]
  },
  {
   "cell_type": "code",
   "execution_count": null,
   "id": "4366ae0e",
   "metadata": {},
   "outputs": [],
   "source": []
  }
 ],
 "metadata": {
  "kernelspec": {
   "display_name": "Python 3 (ipykernel)",
   "language": "python",
   "name": "python3"
  },
  "language_info": {
   "codemirror_mode": {
    "name": "ipython",
    "version": 3
   },
   "file_extension": ".py",
   "mimetype": "text/x-python",
   "name": "python",
   "nbconvert_exporter": "python",
   "pygments_lexer": "ipython3",
   "version": "3.9.13"
  }
 },
 "nbformat": 4,
 "nbformat_minor": 5
}
