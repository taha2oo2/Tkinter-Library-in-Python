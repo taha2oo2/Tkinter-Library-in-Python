{
 "cells": [
  {
   "cell_type": "code",
   "execution_count": 2,
   "id": "de824f15",
   "metadata": {},
   "outputs": [],
   "source": [
    "from tkinter import *"
   ]
  },
  {
   "cell_type": "code",
   "execution_count": 68,
   "id": "a2dafcae",
   "metadata": {},
   "outputs": [],
   "source": [
    "root=Tk()\n",
    "root.geometry(\"333x205\")\n",
    "\n",
    "f1=Frame(root,pady=5,bg=\"red\",borderwidth=6) #boxes bnany k liye jsitrah div and span use krty hain html css main usi trah \n",
    "f1.pack(side=LEFT,fill=\"y\")\n",
    "\n",
    "f2=Frame(root,bg=\"green\",borderwidth=10) #aik or frame bnaya hai \n",
    "f2.pack(side=TOP,fill=\"x\")\n",
    "\n",
    "v=Label(f1,text=\"Frame 1\",fg=\"white\",bg=\"black\",relief=\"sunken\",font=\"Times 24 bold italic\")\n",
    "v.pack(pady=80)\n",
    "\n",
    "t=Label(f2,text=\"Frame 2\",fg=\"white\",bg=\"black\",relief=\"sunken\",font=\"Halvetica 24 bold italic\")\n",
    "t.pack(padx=80)\n"
   ]
  },
  {
   "cell_type": "code",
   "execution_count": 69,
   "id": "365a1b7c",
   "metadata": {},
   "outputs": [],
   "source": [
    "root.mainloop()"
   ]
  },
  {
   "cell_type": "code",
   "execution_count": null,
   "id": "55b7153a",
   "metadata": {},
   "outputs": [],
   "source": []
  }
 ],
 "metadata": {
  "kernelspec": {
   "display_name": "Python 3 (ipykernel)",
   "language": "python",
   "name": "python3"
  },
  "language_info": {
   "codemirror_mode": {
    "name": "ipython",
    "version": 3
   },
   "file_extension": ".py",
   "mimetype": "text/x-python",
   "name": "python",
   "nbconvert_exporter": "python",
   "pygments_lexer": "ipython3",
   "version": "3.9.13"
  }
 },
 "nbformat": 4,
 "nbformat_minor": 5
}
