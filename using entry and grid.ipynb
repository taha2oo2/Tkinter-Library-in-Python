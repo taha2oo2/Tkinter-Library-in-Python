{
 "cells": [
  {
   "cell_type": "code",
   "execution_count": 1,
   "id": "206ddaef",
   "metadata": {},
   "outputs": [],
   "source": [
    "from tkinter import *"
   ]
  },
  {
   "cell_type": "code",
   "execution_count": 29,
   "id": "88b94668",
   "metadata": {},
   "outputs": [],
   "source": [
    "root=Tk()\n",
    "root.geometry(\"666x444\")\n",
    "user=Label(root,text=\"Username\")\n",
    "passw=Label(root,text=\"Password\")\n",
    "user.grid() #grid is same as pack it has two parameters: grid(row,column)\n",
    "passw.grid() \n",
    "\n",
    "#Variables in tkinter= BooleanVar,Intvar,Doublevar,StringVar\n",
    "userval=StringVar()\n",
    "passval=StringVar()\n",
    "\n",
    "#Entry That takes input there\n",
    "userentry=Entry(root,textvariable=userval) #textvariable takes input in a variable\n",
    "passentry=Entry(root,textvariable=passval)\n",
    "\n",
    "userentry.grid(row=0,column=1)\n",
    "passentry.grid(row=1,column=1)\n",
    "\n",
    "def info(): #simple function \n",
    "    print(userval.get()) #.get function is used to extract user's input\n",
    "    print(passval.get())\n",
    "\n",
    "Button(text=\"Enter\",command=info).grid()"
   ]
  },
  {
   "cell_type": "code",
   "execution_count": 30,
   "id": "be4249ea",
   "metadata": {},
   "outputs": [],
   "source": [
    "root.mainloop()"
   ]
  },
  {
   "cell_type": "code",
   "execution_count": null,
   "id": "2e57d538",
   "metadata": {},
   "outputs": [],
   "source": []
  }
 ],
 "metadata": {
  "kernelspec": {
   "display_name": "Python 3 (ipykernel)",
   "language": "python",
   "name": "python3"
  },
  "language_info": {
   "codemirror_mode": {
    "name": "ipython",
    "version": 3
   },
   "file_extension": ".py",
   "mimetype": "text/x-python",
   "name": "python",
   "nbconvert_exporter": "python",
   "pygments_lexer": "ipython3",
   "version": "3.9.13"
  }
 },
 "nbformat": 4,
 "nbformat_minor": 5
}
